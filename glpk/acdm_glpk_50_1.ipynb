{
 "cells": [
  {
   "cell_type": "code",
   "execution_count": 1,
   "metadata": {},
   "outputs": [],
   "source": [
    "using GLPK\n",
    "using GLPKMathProgInterface\n",
    "using JuMP"
   ]
  },
  {
   "cell_type": "code",
   "execution_count": 6,
   "metadata": {},
   "outputs": [],
   "source": [
    "# Read from the files\n",
    "n = 0\n",
    "p = zeros(Int64, 0)\n",
    "\n",
    "open(\"../test_data/trsp_50_1.dat\") do file\n",
    "    global n\n",
    "    global p\n",
    "    \n",
    "    lines = readlines(file)\n",
    "    lines = map(x->parse(Int64,x), lines)\n",
    "    \n",
    "    n = lines[1]\n",
    "    \n",
    "    for i = 2:n+1\n",
    "        push!(p, lines[i])\n",
    "    end\n",
    "end"
   ]
  },
  {
   "cell_type": "code",
   "execution_count": 7,
   "metadata": {},
   "outputs": [
    {
     "data": {
      "text/plain": [
       "50×50 Array{ConstraintRef{Model,C,Shape} where Shape<:AbstractShape where C,2}:\n",
       " -1000 b[1,1] ≤ -91.0                 …  s[1] - s[50] - 1000 b[1,50] ≤ -74.0  \n",
       " s[2] - s[1] - 1000 b[2,1] ≤ -38.0       s[2] - s[50] - 1000 b[2,50] ≤ -38.0  \n",
       " s[3] - s[1] - 1000 b[3,1] ≤ -58.0       s[3] - s[50] - 1000 b[3,50] ≤ -58.0  \n",
       " s[4] - s[1] - 1000 b[4,1] ≤ -16.0       s[4] - s[50] - 1000 b[4,50] ≤ -16.0  \n",
       " s[5] - s[1] - 1000 b[5,1] ≤ -5.0        s[5] - s[50] - 1000 b[5,50] ≤ -5.0   \n",
       " s[6] - s[1] - 1000 b[6,1] ≤ -28.0    …  s[6] - s[50] - 1000 b[6,50] ≤ -28.0  \n",
       " s[7] - s[1] - 1000 b[7,1] ≤ -35.0       s[7] - s[50] - 1000 b[7,50] ≤ -35.0  \n",
       " s[8] - s[1] - 1000 b[8,1] ≤ -91.0       s[8] - s[50] - 1000 b[8,50] ≤ -74.0  \n",
       " s[9] - s[1] - 1000 b[9,1] ≤ -18.0       s[9] - s[50] - 1000 b[9,50] ≤ -18.0  \n",
       " s[10] - s[1] - 1000 b[10,1] ≤ -27.0     s[10] - s[50] - 1000 b[10,50] ≤ -27.0\n",
       " s[11] - s[1] - 1000 b[11,1] ≤ -38.0  …  s[11] - s[50] - 1000 b[11,50] ≤ -38.0\n",
       " s[12] - s[1] - 1000 b[12,1] ≤ -74.0     s[12] - s[50] - 1000 b[12,50] ≤ -74.0\n",
       " s[13] - s[1] - 1000 b[13,1] ≤ -73.0     s[13] - s[50] - 1000 b[13,50] ≤ -73.0\n",
       " ⋮                                    ⋱                                       \n",
       " s[39] - s[1] - 1000 b[39,1] ≤ -18.0     s[39] - s[50] - 1000 b[39,50] ≤ -18.0\n",
       " s[40] - s[1] - 1000 b[40,1] ≤ -65.0     s[40] - s[50] - 1000 b[40,50] ≤ -65.0\n",
       " s[41] - s[1] - 1000 b[41,1] ≤ -86.0  …  s[41] - s[50] - 1000 b[41,50] ≤ -74.0\n",
       " s[42] - s[1] - 1000 b[42,1] ≤ -58.0     s[42] - s[50] - 1000 b[42,50] ≤ -58.0\n",
       " s[43] - s[1] - 1000 b[43,1] ≤ -7.0      s[43] - s[50] - 1000 b[43,50] ≤ -7.0 \n",
       " s[44] - s[1] - 1000 b[44,1] ≤ -55.0     s[44] - s[50] - 1000 b[44,50] ≤ -55.0\n",
       " s[45] - s[1] - 1000 b[45,1] ≤ -91.0     s[45] - s[50] - 1000 b[45,50] ≤ -74.0\n",
       " s[46] - s[1] - 1000 b[46,1] ≤ -4.0   …  s[46] - s[50] - 1000 b[46,50] ≤ -4.0 \n",
       " s[47] - s[1] - 1000 b[47,1] ≤ -62.0     s[47] - s[50] - 1000 b[47,50] ≤ -62.0\n",
       " s[48] - s[1] - 1000 b[48,1] ≤ -40.0     s[48] - s[50] - 1000 b[48,50] ≤ -40.0\n",
       " s[49] - s[1] - 1000 b[49,1] ≤ -81.0     s[49] - s[50] - 1000 b[49,50] ≤ -74.0\n",
       " s[50] - s[1] - 1000 b[50,1] ≤ -74.0     -1000 b[50,50] ≤ -74.0               "
      ]
     },
     "execution_count": 7,
     "metadata": {},
     "output_type": "execute_result"
    }
   ],
   "source": [
    "# Model\n",
    "m = Model(with_optimizer(GLPK.Optimizer))\n",
    "\n",
    "# Variables\n",
    "@variable(m, total_makespan >= 0)\n",
    "@variable(m, s[i=1:n] >= 0)\n",
    "@variable(m, b[i=1:n, j=1:n], Bin)\n",
    "M = 1000\n",
    "\n",
    "# Objective\n",
    "@objective(m, Min, total_makespan)\n",
    "\n",
    "# Constraints\n",
    "@constraint(m, [i=1:n], total_makespan >= s[i] + p[i])\n",
    "@constraint(m, [i=1:n, j=1:n], s[i] - s[j] + M * b[i, j] >= min(p[i], p[j]))\n",
    "@constraint(m, [i=1:n, j=1:n], s[i] - s[j] + M * (1 - b[i, j]) <= M - min(p[i], p[j]))"
   ]
  },
  {
   "cell_type": "code",
   "execution_count": 8,
   "metadata": {},
   "outputs": [
    {
     "name": "stdout",
     "output_type": "stream",
     "text": [
      "908.118287 seconds (7.72 M allocations: 387.098 MiB, 0.05% gc time)\n"
     ]
    }
   ],
   "source": [
    "@time optimize!(m)"
   ]
  },
  {
   "cell_type": "code",
   "execution_count": 9,
   "metadata": {},
   "outputs": [
    {
     "data": {
      "text/plain": [
       "99.0"
      ]
     },
     "execution_count": 9,
     "metadata": {},
     "output_type": "execute_result"
    }
   ],
   "source": [
    "objective_value(m)"
   ]
  }
 ],
 "metadata": {
  "kernelspec": {
   "display_name": "Julia 1.1.1",
   "language": "julia",
   "name": "julia-1.1"
  },
  "language_info": {
   "file_extension": ".jl",
   "mimetype": "application/julia",
   "name": "julia",
   "version": "1.1.1"
  }
 },
 "nbformat": 4,
 "nbformat_minor": 2
}
